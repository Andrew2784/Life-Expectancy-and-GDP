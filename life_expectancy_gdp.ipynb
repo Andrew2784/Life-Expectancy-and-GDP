{
 "cells": [
  {
   "cell_type": "code",
   "execution_count": 1,
   "metadata": {},
   "outputs": [],
   "source": [
    "# Import libraries\n",
    "import numpy as np\n",
    "import matplotlib.pyplot as plt\n",
    "import pandas as pd\n",
    "import seaborn as sns\n",
    "from scipy.stats import kruskal\n",
    "from scipy.stats import tukey_hsd"
   ]
  },
  {
   "cell_type": "code",
   "execution_count": 2,
   "metadata": {},
   "outputs": [],
   "source": [
    "# Load data\n",
    "data = pd.read_csv('all_data.csv')"
   ]
  },
  {
   "cell_type": "code",
   "execution_count": 3,
   "metadata": {},
   "outputs": [
    {
     "data": {
      "text/html": [
       "<div>\n",
       "<style scoped>\n",
       "    .dataframe tbody tr th:only-of-type {\n",
       "        vertical-align: middle;\n",
       "    }\n",
       "\n",
       "    .dataframe tbody tr th {\n",
       "        vertical-align: top;\n",
       "    }\n",
       "\n",
       "    .dataframe thead th {\n",
       "        text-align: right;\n",
       "    }\n",
       "</style>\n",
       "<table border=\"1\" class=\"dataframe\">\n",
       "  <thead>\n",
       "    <tr style=\"text-align: right;\">\n",
       "      <th></th>\n",
       "      <th>Country</th>\n",
       "      <th>Year</th>\n",
       "      <th>Life expectancy at birth (years)</th>\n",
       "      <th>GDP</th>\n",
       "    </tr>\n",
       "  </thead>\n",
       "  <tbody>\n",
       "    <tr>\n",
       "      <th>0</th>\n",
       "      <td>Chile</td>\n",
       "      <td>2000</td>\n",
       "      <td>77.3</td>\n",
       "      <td>7.786093e+10</td>\n",
       "    </tr>\n",
       "    <tr>\n",
       "      <th>1</th>\n",
       "      <td>Chile</td>\n",
       "      <td>2001</td>\n",
       "      <td>77.3</td>\n",
       "      <td>7.097992e+10</td>\n",
       "    </tr>\n",
       "    <tr>\n",
       "      <th>2</th>\n",
       "      <td>Chile</td>\n",
       "      <td>2002</td>\n",
       "      <td>77.8</td>\n",
       "      <td>6.973681e+10</td>\n",
       "    </tr>\n",
       "    <tr>\n",
       "      <th>3</th>\n",
       "      <td>Chile</td>\n",
       "      <td>2003</td>\n",
       "      <td>77.9</td>\n",
       "      <td>7.564346e+10</td>\n",
       "    </tr>\n",
       "    <tr>\n",
       "      <th>4</th>\n",
       "      <td>Chile</td>\n",
       "      <td>2004</td>\n",
       "      <td>78.0</td>\n",
       "      <td>9.921039e+10</td>\n",
       "    </tr>\n",
       "  </tbody>\n",
       "</table>\n",
       "</div>"
      ],
      "text/plain": [
       "  Country  Year  Life expectancy at birth (years)           GDP\n",
       "0   Chile  2000                              77.3  7.786093e+10\n",
       "1   Chile  2001                              77.3  7.097992e+10\n",
       "2   Chile  2002                              77.8  6.973681e+10\n",
       "3   Chile  2003                              77.9  7.564346e+10\n",
       "4   Chile  2004                              78.0  9.921039e+10"
      ]
     },
     "execution_count": 3,
     "metadata": {},
     "output_type": "execute_result"
    }
   ],
   "source": [
    "# Exploring the data\n",
    "data.head()"
   ]
  },
  {
   "cell_type": "code",
   "execution_count": 4,
   "metadata": {},
   "outputs": [
    {
     "name": "stdout",
     "output_type": "stream",
     "text": [
      "['Chile' 'China' 'Germany' 'Mexico' 'United States of America' 'Zimbabwe']\n",
      "[2000 2001 2002 2003 2004 2005 2006 2007 2008 2009 2010 2011 2012 2013\n",
      " 2014 2015]\n",
      "[77.3 77.8 77.9 78.  78.4 78.9 79.6 79.3 79.1 79.8 79.9 80.1 80.3 80.5\n",
      " 71.7 72.2 72.7 73.1 73.5 73.9 74.2 74.4 74.5 74.9 75.  75.2 75.4 75.6\n",
      " 75.8 76.1 78.3 78.5 79.2 80.  80.6 80.9 81.  74.8 75.3 76.  75.7 76.3\n",
      " 76.6 76.7 76.8 76.9 77.  77.2 77.5 78.1 78.2 78.7 78.8 46.  45.3 44.8\n",
      " 44.5 44.3 44.6 45.4 46.6 48.2 50.  52.4 54.9 56.6 58.  59.2 60.7]\n",
      "[7.78609322e+10 7.09799240e+10 6.97368114e+10 7.56434598e+10\n",
      " 9.92103929e+10 1.22965000e+11 1.54788000e+11 1.73606000e+11\n",
      " 1.79638000e+11 1.72389000e+11 2.18538000e+11 2.52252000e+11\n",
      " 2.67122000e+11 2.78384000e+11 2.60990000e+11 2.42518000e+11\n",
      " 1.21135000e+12 1.33940000e+12 1.47055000e+12 1.66029000e+12\n",
      " 1.95535000e+12 2.28597000e+12 2.75213000e+12 3.55218000e+12\n",
      " 4.59821000e+12 5.10995000e+12 6.10062000e+12 7.57255000e+12\n",
      " 8.56055000e+12 9.60722000e+12 1.04824000e+13 1.10647000e+13\n",
      " 1.94995000e+12 1.95065000e+12 2.07914000e+12 2.50573000e+12\n",
      " 2.81925000e+12 2.86141000e+12 3.00245000e+12 3.43995000e+12\n",
      " 3.75237000e+12 3.41801000e+12 3.41709000e+12 3.75770000e+12\n",
      " 3.54398000e+12 3.75251000e+12 3.89061000e+12 3.37561000e+12\n",
      " 6.83648000e+11 7.24704000e+11 7.41560000e+11 7.13284000e+11\n",
      " 7.70268000e+11 8.66346000e+11 9.65281000e+11 1.04347000e+12\n",
      " 1.10128000e+12 8.94949000e+11 1.05113000e+12 1.17119000e+12\n",
      " 1.18660000e+12 1.26198000e+12 1.29846000e+12 1.15226000e+12\n",
      " 1.03000000e+13 1.06000000e+13 1.10000000e+13 1.15000000e+13\n",
      " 1.23000000e+13 1.31000000e+13 1.39000000e+13 1.45000000e+13\n",
      " 1.47000000e+13 1.44000000e+13 1.50000000e+13 1.55000000e+13\n",
      " 1.62000000e+13 1.67000000e+13 1.74000000e+13 1.81000000e+13\n",
      " 6.68995760e+09 6.77738470e+09 6.34211640e+09 5.72759180e+09\n",
      " 5.80559840e+09 5.75521520e+09 5.44389650e+09 5.29195010e+09\n",
      " 4.41570280e+09 8.62157361e+09 1.01418597e+10 1.20984507e+10\n",
      " 1.42424903e+10 1.54517687e+10 1.58910492e+10 1.63046678e+10]\n"
     ]
    },
    {
     "data": {
      "text/plain": [
       "Country                             0\n",
       "Year                                0\n",
       "Life expectancy at birth (years)    0\n",
       "GDP                                 0\n",
       "dtype: int64"
      ]
     },
     "execution_count": 4,
     "metadata": {},
     "output_type": "execute_result"
    }
   ],
   "source": [
    "# Taking a first look at the data reveals that there are 4 columns: Country, Year, Life expectancy at birth, and GDP.\n",
    "# Next, we will check if there are any missing values in the data\n",
    "for column in data.columns:\n",
    "    print(data[column].unique())\n",
    "pd.isnull(data).sum()"
   ]
  },
  {
   "cell_type": "code",
   "execution_count": 5,
   "metadata": {},
   "outputs": [
    {
     "data": {
      "text/plain": [
       "Country                              object\n",
       "Year                                  int64\n",
       "Life expectancy at birth (years)    float64\n",
       "GDP                                 float64\n",
       "dtype: object"
      ]
     },
     "execution_count": 5,
     "metadata": {},
     "output_type": "execute_result"
    }
   ],
   "source": [
    "# We see that there are no null values or any other strange values that could represent null values (e.g. '.' or '0')\n",
    "# We can check the data types before performing any calculations\n",
    "data.dtypes"
   ]
  },
  {
   "cell_type": "code",
   "execution_count": 6,
   "metadata": {},
   "outputs": [
    {
     "data": {
      "text/html": [
       "<div>\n",
       "<style scoped>\n",
       "    .dataframe tbody tr th:only-of-type {\n",
       "        vertical-align: middle;\n",
       "    }\n",
       "\n",
       "    .dataframe tbody tr th {\n",
       "        vertical-align: top;\n",
       "    }\n",
       "\n",
       "    .dataframe thead th {\n",
       "        text-align: right;\n",
       "    }\n",
       "</style>\n",
       "<table border=\"1\" class=\"dataframe\">\n",
       "  <thead>\n",
       "    <tr style=\"text-align: right;\">\n",
       "      <th></th>\n",
       "      <th>Year</th>\n",
       "      <th>Life expectancy at birth (years)</th>\n",
       "      <th>GDP</th>\n",
       "    </tr>\n",
       "  </thead>\n",
       "  <tbody>\n",
       "    <tr>\n",
       "      <th>count</th>\n",
       "      <td>96.000000</td>\n",
       "      <td>96.000000</td>\n",
       "      <td>9.600000e+01</td>\n",
       "    </tr>\n",
       "    <tr>\n",
       "      <th>mean</th>\n",
       "      <td>2007.500000</td>\n",
       "      <td>72.789583</td>\n",
       "      <td>3.880499e+12</td>\n",
       "    </tr>\n",
       "    <tr>\n",
       "      <th>std</th>\n",
       "      <td>4.633971</td>\n",
       "      <td>10.672882</td>\n",
       "      <td>5.197561e+12</td>\n",
       "    </tr>\n",
       "    <tr>\n",
       "      <th>min</th>\n",
       "      <td>2000.000000</td>\n",
       "      <td>44.300000</td>\n",
       "      <td>4.415703e+09</td>\n",
       "    </tr>\n",
       "    <tr>\n",
       "      <th>25%</th>\n",
       "      <td>2003.750000</td>\n",
       "      <td>74.475000</td>\n",
       "      <td>1.733018e+11</td>\n",
       "    </tr>\n",
       "    <tr>\n",
       "      <th>50%</th>\n",
       "      <td>2007.500000</td>\n",
       "      <td>76.750000</td>\n",
       "      <td>1.280220e+12</td>\n",
       "    </tr>\n",
       "    <tr>\n",
       "      <th>75%</th>\n",
       "      <td>2011.250000</td>\n",
       "      <td>78.900000</td>\n",
       "      <td>4.067510e+12</td>\n",
       "    </tr>\n",
       "    <tr>\n",
       "      <th>max</th>\n",
       "      <td>2015.000000</td>\n",
       "      <td>81.000000</td>\n",
       "      <td>1.810000e+13</td>\n",
       "    </tr>\n",
       "  </tbody>\n",
       "</table>\n",
       "</div>"
      ],
      "text/plain": [
       "              Year  Life expectancy at birth (years)           GDP\n",
       "count    96.000000                         96.000000  9.600000e+01\n",
       "mean   2007.500000                         72.789583  3.880499e+12\n",
       "std       4.633971                         10.672882  5.197561e+12\n",
       "min    2000.000000                         44.300000  4.415703e+09\n",
       "25%    2003.750000                         74.475000  1.733018e+11\n",
       "50%    2007.500000                         76.750000  1.280220e+12\n",
       "75%    2011.250000                         78.900000  4.067510e+12\n",
       "max    2015.000000                         81.000000  1.810000e+13"
      ]
     },
     "execution_count": 6,
     "metadata": {},
     "output_type": "execute_result"
    }
   ],
   "source": [
    "# We can also gain some initial statistics on the data\n",
    "data.describe()"
   ]
  },
  {
   "cell_type": "code",
   "execution_count": 7,
   "metadata": {},
   "outputs": [
    {
     "name": "stdout",
     "output_type": "stream",
     "text": [
      "         Life expectancy at birth (years)                  GDP              \n",
      "                                     mean median          mean        median\n",
      "Country                                                                     \n",
      "Chile                            78.94375  79.00  1.697888e+11  1.729975e+11\n",
      "China                            74.26250  74.45  4.957714e+12  4.075195e+12\n",
      "Germany                          79.65625  79.85  3.094776e+12  3.396350e+12\n",
      "Mexico                           75.71875  75.65  9.766506e+11  1.004376e+12\n",
      "USA                              78.06250  78.15  1.407500e+13  1.445000e+13\n",
      "Zimbabwe                         50.09375  47.40  9.062580e+09  6.733671e+09\n"
     ]
    },
    {
     "data": {
      "image/png": "[encoded data removed]",
      "text/plain": [
       "<Figure size 432x288 with 1 Axes>"
      ]
     },
     "metadata": {
      "needs_background": "light"
     },
     "output_type": "display_data"
    }
   ],
   "source": [
    "# We can now start asking questions that we want answered. The first question is 'What is the average life expectancy for the six nations?'\n",
    "grouped = data.groupby('Country')[['Life expectancy at birth (years)','GDP']].agg([np.mean,np.median])\n",
    "grouped.rename(index={'United States of America':'USA'},inplace=True)\n",
    "print(grouped)\n",
    "plt.plot(grouped.index,grouped['Life expectancy at birth (years)']['mean'],'o')\n",
    "plt.xlabel('Country')\n",
    "plt.ylabel('Life expectancy (years)')\n",
    "plt.title('Life expectancy of different countries')\n",
    "plt.show()"
   ]
  },
  {
   "cell_type": "code",
   "execution_count": 8,
   "metadata": {},
   "outputs": [
    {
     "data": {
      "image/png": "[encoded data removed]",
      "text/plain": [
       "<Figure size 432x288 with 1 Axes>"
      ]
     },
     "metadata": {
      "needs_background": "light"
     },
     "output_type": "display_data"
    }
   ],
   "source": [
    "# It appears from the table and graph that Germany has the highest life expectancy and Zimbabwe has the lowest.\n",
    "# The next question we can ask is if there is a correlation between average life expectancy and average GDP\n",
    "grouped_sorted = grouped.sort_values(('GDP','mean'))\n",
    "plt.plot(grouped_sorted['GDP']['mean'],grouped_sorted['Life expectancy at birth (years)']['mean'],'o')\n",
    "plt.xlabel('GDP')\n",
    "plt.ylabel('Life  expectancy (years)')\n",
    "plt.title('Life expectancy and GDP')\n",
    "plt.show()"
   ]
  },
  {
   "cell_type": "code",
   "execution_count": 9,
   "metadata": {
    "scrolled": true
   },
   "outputs": [
    {
     "data": {
      "image/png": "[encoded data removed]",
      "text/plain": [
       "<Figure size 2160x360 with 6 Axes>"
      ]
     },
     "metadata": {
      "needs_background": "light"
     },
     "output_type": "display_data"
    }
   ],
   "source": [
    "# It appears that as GDP increases, life expectancy has increasesd as well. However, this correlation is not too strong since\n",
    "# there are some fluctuations.\n",
    "# We can take a closer look at how GDP changes for each country\n",
    "sns.catplot(data=data,x='Year',y='GDP',col='Country',sharey=False).set_xticklabels(rotation=30)\n",
    "plt.show()"
   ]
  },
  {
   "cell_type": "code",
   "execution_count": 10,
   "metadata": {},
   "outputs": [
    {
     "data": {
      "image/png": "[encoded data removed]",
      "text/plain": [
       "<Figure size 2160x360 with 6 Axes>"
      ]
     },
     "metadata": {
      "needs_background": "light"
     },
     "output_type": "display_data"
    }
   ],
   "source": [
    "# It appears that for the six countries, GDP generally increases over the years.\n",
    "# We can also see how life expectancy changes over the years\n",
    "sns.catplot(data=data,x='Year',y='Life expectancy at birth (years)',col='Country',sharey=False).set_xticklabels(rotation=30)\n",
    "plt.show()"
   ]
  },
  {
   "cell_type": "code",
   "execution_count": 11,
   "metadata": {},
   "outputs": [
    {
     "data": {
      "text/plain": [
       "{'Chile': 0     77.3\n",
       " 1     77.3\n",
       " 2     77.8\n",
       " 3     77.9\n",
       " 4     78.0\n",
       " 5     78.4\n",
       " 6     78.9\n",
       " 7     78.9\n",
       " 8     79.6\n",
       " 9     79.3\n",
       " 10    79.1\n",
       " 11    79.8\n",
       " 12    79.9\n",
       " 13    80.1\n",
       " 14    80.3\n",
       " 15    80.5\n",
       " Name: Life expectancy at birth (years), dtype: float64,\n",
       " 'China': 16    71.7\n",
       " 17    72.2\n",
       " 18    72.7\n",
       " 19    73.1\n",
       " 20    73.5\n",
       " 21    73.9\n",
       " 22    74.2\n",
       " 23    74.4\n",
       " 24    74.5\n",
       " 25    74.9\n",
       " 26    75.0\n",
       " 27    75.2\n",
       " 28    75.4\n",
       " 29    75.6\n",
       " 30    75.8\n",
       " 31    76.1\n",
       " Name: Life expectancy at birth (years), dtype: float64,\n",
       " 'Germany': 32    78.0\n",
       " 33    78.3\n",
       " 34    78.4\n",
       " 35    78.5\n",
       " 36    79.1\n",
       " 37    79.2\n",
       " 38    79.6\n",
       " 39    79.8\n",
       " 40    79.9\n",
       " 41    80.0\n",
       " 42    80.1\n",
       " 43    80.5\n",
       " 44    80.6\n",
       " 45    80.6\n",
       " 46    80.9\n",
       " 47    81.0\n",
       " Name: Life expectancy at birth (years), dtype: float64,\n",
       " 'Mexico': 48    74.8\n",
       " 49    75.0\n",
       " 50    75.0\n",
       " 51    75.0\n",
       " 52    75.4\n",
       " 53    75.3\n",
       " 54    75.8\n",
       " 55    76.0\n",
       " 56    75.6\n",
       " 57    75.7\n",
       " 58    75.6\n",
       " 59    76.1\n",
       " 60    76.3\n",
       " 61    76.6\n",
       " 62    76.6\n",
       " 63    76.7\n",
       " Name: Life expectancy at birth (years), dtype: float64,\n",
       " 'United States of America': 64    76.8\n",
       " 65    76.9\n",
       " 66    77.0\n",
       " 67    77.2\n",
       " 68    77.5\n",
       " 69    77.5\n",
       " 70    77.8\n",
       " 71    78.1\n",
       " 72    78.2\n",
       " 73    78.5\n",
       " 74    78.7\n",
       " 75    78.7\n",
       " 76    78.8\n",
       " 77    78.9\n",
       " 78    79.1\n",
       " 79    79.3\n",
       " Name: Life expectancy at birth (years), dtype: float64,\n",
       " 'Zimbabwe': 80    46.0\n",
       " 81    45.3\n",
       " 82    44.8\n",
       " 83    44.5\n",
       " 84    44.3\n",
       " 85    44.6\n",
       " 86    45.4\n",
       " 87    46.6\n",
       " 88    48.2\n",
       " 89    50.0\n",
       " 90    52.4\n",
       " 91    54.9\n",
       " 92    56.6\n",
       " 93    58.0\n",
       " 94    59.2\n",
       " 95    60.7\n",
       " Name: Life expectancy at birth (years), dtype: float64}"
      ]
     },
     "execution_count": 11,
     "metadata": {},
     "output_type": "execute_result"
    }
   ],
   "source": [
    "# Life GDP, life expectancy also generally increases as the years increase\n",
    "# The last question we can ask is if there is a statistically significant difference between life expectancy\n",
    "# between the six countries.\n",
    "countries = data['Country'].unique()\n",
    "life_expectancies = {}\n",
    "for country in countries:\n",
    "    life_expectancies[country] = data[data.Country == country]['Life expectancy at birth (years)']\n",
    "life_expectancies"
   ]
  },
  {
   "cell_type": "code",
   "execution_count": 12,
   "metadata": {},
   "outputs": [
    {
     "name": "stdout",
     "output_type": "stream",
     "text": [
      "Chile: 1.0252857833306763\n",
      "China: 1.2761636846423725\n",
      "Germany: 0.9440396906380575\n",
      "Mexico: 0.6012681909930035\n",
      "United States of America: 0.8061288668693107\n",
      "Zimbabwe: 5.751681140110255\n"
     ]
    }
   ],
   "source": [
    "# To calculuate statistiacl significance, we can use ANOVA. We have to meet the criteria. We can assume that the samples are\n",
    "# independent and from a normally distributed population. We can check the last condition of equal standard deviations.\n",
    "for country in life_expectancies.keys():\n",
    "    print(country +': '+str(np.std(life_expectancies[country])))\n"
   ]
  },
  {
   "cell_type": "code",
   "execution_count": 13,
   "metadata": {},
   "outputs": [
    {
     "data": {
      "text/plain": [
       "KruskalResult(statistic=84.1917762042062, pvalue=1.111968964300463e-16)"
      ]
     },
     "execution_count": 13,
     "metadata": {},
     "output_type": "execute_result"
    }
   ],
   "source": [
    "# It appears that the standard deviation for Zimbabwe is much larger than the other countries. Thus, it would be inappropriate\n",
    "# to use ANOVA in this situation. We can use the Kruskal-Wallis-H-test to determine if there are statistically signficant\n",
    "# differences in life expectancies between the six countries.\n",
    "x = [[1,2,3],[4,5,6]]\n",
    "y = [4,5,3]\n",
    "life_expectancy_list = []\n",
    "for country in life_expectancies.keys():\n",
    "    life_expectancy_list.append(life_expectancies[country])\n",
    "kruskal(*life_expectancy_list)"
   ]
  },
  {
   "cell_type": "code",
   "execution_count": 17,
   "metadata": {},
   "outputs": [
    {
     "name": "stdout",
     "output_type": "stream",
     "text": [
      "Tukey's HSD Pairwise Group Comparisons (95.0% Confidence Interval)\n",
      "Comparison  Statistic  p-value  Lower CI  Upper CI\n",
      " (0 - 1)      4.681     0.000     2.017     7.345\n",
      " (0 - 2)     -0.713     0.970    -3.377     1.952\n",
      " (0 - 3)      3.225     0.008     0.561     5.889\n",
      " (0 - 4)      0.881     0.928    -1.783     3.545\n",
      " (0 - 5)     28.850     0.000    26.186    31.514\n",
      " (1 - 0)     -4.681     0.000    -7.345    -2.017\n",
      " (1 - 2)     -5.394     0.000    -8.058    -2.730\n",
      " (1 - 3)     -1.456     0.606    -4.120     1.208\n",
      " (1 - 4)     -3.800     0.001    -6.464    -1.136\n",
      " (1 - 5)     24.169     0.000    21.505    26.833\n",
      " (2 - 0)      0.713     0.970    -1.952     3.377\n",
      " (2 - 1)      5.394     0.000     2.730     8.058\n",
      " (2 - 3)      3.938     0.001     1.273     6.602\n",
      " (2 - 4)      1.594     0.508    -1.070     4.258\n",
      " (2 - 5)     29.562     0.000    26.898    32.227\n",
      " (3 - 0)     -3.225     0.008    -5.889    -0.561\n",
      " (3 - 1)      1.456     0.606    -1.208     4.120\n",
      " (3 - 2)     -3.938     0.001    -6.602    -1.273\n",
      " (3 - 4)     -2.344     0.118    -5.008     0.320\n",
      " (3 - 5)     25.625     0.000    22.961    28.289\n",
      " (4 - 0)     -0.881     0.928    -3.545     1.783\n",
      " (4 - 1)      3.800     0.001     1.136     6.464\n",
      " (4 - 2)     -1.594     0.508    -4.258     1.070\n",
      " (4 - 3)      2.344     0.118    -0.320     5.008\n",
      " (4 - 5)     27.969     0.000    25.305    30.633\n",
      " (5 - 0)    -28.850     0.000   -31.514   -26.186\n",
      " (5 - 1)    -24.169     0.000   -26.833   -21.505\n",
      " (5 - 2)    -29.562     0.000   -32.227   -26.898\n",
      " (5 - 3)    -25.625     0.000   -28.289   -22.961\n",
      " (5 - 4)    -27.969     0.000   -30.633   -25.305\n",
      "\n"
     ]
    }
   ],
   "source": [
    "# We got a really small p-value. Thus, we can reject the null hypothesis and conclude that there is a significant difference\n",
    "# between at least two groups. To find out which group life expectancies are statistically different, we can use a post-hoc\n",
    "# test such as Tukey's HSD test.\n",
    "results = tukey_hsd(*life_expectancy_list)\n",
    "print(results)"
   ]
  },
  {
   "cell_type": "code",
   "execution_count": null,
   "metadata": {},
   "outputs": [],
   "source": [
    "# In the table above: 0 = 'Chile', 1 = 'China', 2 = 'Germany', 3 = 'Mexico', 4 = 'United States of America', 5 = 'Zimbabwe'\n",
    "# We reject the null hypothesis if the p-value is less than 0.05. We can reject the null hypothesis in several cases and \n",
    "# conclude that several of the countries have statistically significant differences in life expectancy."
   ]
  }
 ],
 "metadata": {
  "kernelspec": {
   "display_name": "Python 3",
   "language": "python",
   "name": "python3"
  },
  "language_info": {
   "codemirror_mode": {
    "name": "ipython",
    "version": 3
   },
   "file_extension": ".py",
   "mimetype": "text/x-python",
   "name": "python",
   "nbconvert_exporter": "python",
   "pygments_lexer": "ipython3",
   "version": "3.8.8"
  }
 },
 "nbformat": 4,
 "nbformat_minor": 4
}
